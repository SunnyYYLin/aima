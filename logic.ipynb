{
 "cells": [
  {
   "cell_type": "markdown",
   "metadata": {},
   "source": [
    "# Logic Algorithms\n",
    "First realize some basic discriminance."
   ]
  },
  {
   "cell_type": "code",
   "execution_count": 50,
   "metadata": {},
   "outputs": [],
   "source": [
    "from sympy import symbols, Function, Implies\n",
    "from sympy.core.function import AppliedUndef\n",
    "from sympy.core.symbol import Symbol\n",
    "from sympy.core.expr import Expr\n",
    "\n",
    "class Substitution(dict):\n",
    "    '''\n",
    "    Use a dictionary to represent a substitution.\n",
    "    '''\n",
    "    def __str__(self):\n",
    "        return '{'+', '.join(f'{k}/{v}' for k, v in self.items())+'}'\n",
    "\n",
    "def is_expr(x):\n",
    "    return x.is_symbol or isinstance(x, AppliedUndef)\n",
    "\n",
    "def is_var(x):\n",
    "    return x.is_symbol and str(x).islower()\n",
    "\n",
    "def is_const(x):\n",
    "    return x.is_symbol and not str(x).islower()\n",
    "\n",
    "def is_comp(x):\n",
    "    return isinstance(x, AppliedUndef)\n",
    "\n",
    "def is_op(x):\n",
    "    return isinstance(x, Function)\n",
    "\n",
    "class KBase():\n",
    "    def __init__(self) -> None:\n",
    "        self._rules = set()\n",
    "        self._facts = set()\n",
    "    def __str__(self) -> str:\n",
    "        rules = '\\n'.join(str(r) for r in self._rules)\n",
    "        facts = '\\n'.join(str(f) for f in self._facts)\n",
    "        return f'Rules:\\n{rules}\\nFacts:\\n{facts}'\n",
    "    def tell(self, t:Expr) -> None:\n",
    "        if isinstance(t, Implies):\n",
    "            self._rules.add(t)\n",
    "        else:\n",
    "            self._facts.add(t)\n",
    "        "
   ]
  },
  {
   "cell_type": "markdown",
   "metadata": {},
   "source": [
    "### Unification Algorithm\n",
    "Try to substitute variables to unify two expressions, making them the same."
   ]
  },
  {
   "cell_type": "code",
   "execution_count": 51,
   "metadata": {},
   "outputs": [],
   "source": [
    "def unify(expr1:Expr, expr2:Expr, theta:Substitution=None)->Substitution:\n",
    "    if theta is None: # exsiting a failure in recurrence\n",
    "        theta = {}\n",
    "    if expr1 == expr2: # already the same\n",
    "        return theta\n",
    "    elif is_var(expr1): \n",
    "        return unify_var(expr1, expr2, theta)\n",
    "    elif is_var(expr2):\n",
    "        return unify_var(expr2, expr1, theta)\n",
    "    elif is_comp(expr1) and is_comp(expr2):\n",
    "        if expr1.func == expr2.func and len(expr1.args) == len(expr2.args):\n",
    "            for arg1, arg2 in zip(expr1.args, expr2.args):\n",
    "                theta = unify(arg1, arg2, theta)\n",
    "                if theta is None:\n",
    "                    return None\n",
    "            return theta\n",
    "    return None\n",
    "\n",
    "def unify_var(var: Symbol, expr:Expr, theta)->Substitution:\n",
    "    '''\n",
    "    Unify a variable with an expression.\n",
    "    '''\n",
    "    if var in theta:\n",
    "        return unify(theta[var], expr, theta)\n",
    "    elif expr in theta:\n",
    "        return unify(var, theta[expr], theta)\n",
    "    elif occur_check(var, expr, theta):\n",
    "        return None\n",
    "    else:\n",
    "        theta[var] = expr\n",
    "        return theta\n",
    "\n",
    "def occur_check(var:Symbol, expr:Expr, theta)->bool:\n",
    "    '''\n",
    "    Check if a variable occurs in a term.\n",
    "    '''\n",
    "    if var == expr:\n",
    "        return True\n",
    "    elif is_comp(expr):\n",
    "        return any(occur_check(var, arg, theta) for arg in expr.args)\n",
    "    return False"
   ]
  },
  {
   "cell_type": "markdown",
   "metadata": {},
   "source": [
    "Here we have some test examples."
   ]
  },
  {
   "cell_type": "code",
   "execution_count": 52,
   "metadata": {},
   "outputs": [
    {
     "name": "stdout",
     "output_type": "stream",
     "text": [
      "UNIFY(Knows(John, x), Knows(John, Jane)) = {x: Jane}\n",
      "UNIFY(Knows(John, x), Knows(y, Bill)) = {y: John, x: Bill}\n",
      "UNIFY(Knows(John, x), Knows(y, Mother(y))) = {y: John, x: Mother(y)}\n",
      "UNIFY(Knows(John, x), Knows(y, Elizabeth)) = {y: John, x: Elizabeth}\n"
     ]
    }
   ],
   "source": [
    "x, y = symbols('x y')\n",
    "John, Jane, Bill, Elizabeth = symbols('John Jane Bill Elizabeth')\n",
    "Mother = Function('Mother')\n",
    "Knows = Function('Knows')\n",
    "\n",
    "expr1 = Knows(John, x)\n",
    "expr2 = Knows(John, Jane)\n",
    "expr3 = Knows(y, Bill)\n",
    "expr4 = Knows(y, Mother(y))\n",
    "expr5 = Knows(y, Elizabeth)\n",
    "\n",
    "print(\"UNIFY(Knows(John, x), Knows(John, Jane)) =\", unify(expr1, expr2))\n",
    "print(\"UNIFY(Knows(John, x), Knows(y, Bill)) =\", unify(expr1, expr3))\n",
    "print(\"UNIFY(Knows(John, x), Knows(y, Mother(y))) =\", unify(expr1, expr4))\n",
    "print(\"UNIFY(Knows(John, x), Knows(y, Elizabeth)) =\", unify(expr1, expr5))"
   ]
  },
  {
   "cell_type": "markdown",
   "metadata": {},
   "source": [
    "## Forward Chaining\n",
    "Beginning from rules and knowledge in the Knowledge Base, infer forward to get many new knowleadge. Maybe one of the new ones is what we need."
   ]
  },
  {
   "cell_type": "code",
   "execution_count": 53,
   "metadata": {},
   "outputs": [],
   "source": [
    "from itertools import product\n",
    "\n",
    "def fc_fool(self, query:Expr)->bool:\n",
    "    '''\n",
    "    Forward chaining inference, to match a query.\n",
    "    '''\n",
    "    if any(unify(fact, query) is not None for fact in self._facts):\n",
    "        return True\n",
    "    while True:\n",
    "        new = set()\n",
    "        for rule in self._rules:\n",
    "            premises = rule.args[0]\n",
    "            conclusion = rule.args[1]\n",
    "            for fact_tuple in product(self._facts, repeat=len(premises.args)-1):\n",
    "                subst = Substitution()\n",
    "                for fact, premise in zip(fact_tuple, premises.args):\n",
    "                    theta = unify(fact, premise, subst)\n",
    "                    if theta is None:\n",
    "                        break\n",
    "                    subst |= theta\n",
    "                else:\n",
    "                    new_fact = conclusion.subs(subst)\n",
    "                    if new_fact not in self._facts:\n",
    "                        new.add(new_fact)\n",
    "        if not new:\n",
    "            return False\n",
    "        self._facts |= new\n",
    "        print(new)\n",
    "        if any(unify(fact, query) is not None for fact in self._facts):\n",
    "            return True\n",
    "\n",
    "KBase.fc_fool = fc_fool"
   ]
  },
  {
   "cell_type": "markdown",
   "metadata": {},
   "source": [
    "Here are some test samples."
   ]
  },
  {
   "cell_type": "code",
   "execution_count": 54,
   "metadata": {},
   "outputs": [
    {
     "name": "stdout",
     "output_type": "stream",
     "text": [
      "{Weapon(b), Hostile(c), Sells(West, M1, Nono)}\n",
      "{Criminal(West)}\n"
     ]
    },
    {
     "data": {
      "text/plain": [
       "True"
      ]
     },
     "execution_count": 54,
     "metadata": {},
     "output_type": "execute_result"
    }
   ],
   "source": [
    "from sympy import Function, And, Implies\n",
    "from sympy.abc import x, y, z, a, b, c\n",
    "\n",
    "kb = KBase()\n",
    "American, Weapon, Sells, Hostile, Criminal, Owns, Missle, Enemy = \\\n",
    "    Function('American', bool=True), Function('Weapon', bool=True), Function('Sells', bool=True), \\\n",
    "    Function('Hostile', bool=True), Function('Criminal', bool=True), Function('Owns', bool=True), \\\n",
    "    Function('Missle', bool=True), Function('Enemy', bool=True)\n",
    "And, Or, Not = Function('And'), Function('Or'), Function('Not')\n",
    "Nono, West, America, M1 = symbols('Nono West America M1')\n",
    "# rules\n",
    "kb.tell(Implies(And(American(x), Weapon(y), Sells(x, y, z), Hostile(z)), Criminal(x)))\n",
    "kb.tell(Implies(And(Missle(a), Owns(Nono, a)), Sells(West, a, Nono)))\n",
    "kb.tell(Implies(And(Missle(b)), Weapon(b)))\n",
    "kb.tell(Implies(And(Enemy(c, America)), Hostile(c)))\n",
    "# facts\n",
    "\n",
    "kb.tell(Owns(Nono, Missle(M1)))\n",
    "kb.tell(American(West))\n",
    "kb.tell(Missle(M1))\n",
    "kb.tell(Enemy(Nono, America))\n",
    "\n",
    "kb.fc_fool(Criminal(West)) # True"
   ]
  },
  {
   "cell_type": "markdown",
   "metadata": {},
   "source": [
    "## Backward Chaining\n",
    "Beginning from query, "
   ]
  },
  {
   "cell_type": "code",
   "execution_count": 55,
   "metadata": {},
   "outputs": [],
   "source": [
    "def bc_fool(self, query:Expr)->bool:\n",
    "    '''\n",
    "    Backward chaining inference, to match a query.\n",
    "    '''\n",
    "    if any(unify(fact, query) is not None for fact in self._facts):\n",
    "        return True\n",
    "    for rule in self._rules:\n",
    "        premises = rule.args[0]\n",
    "        conclusion = rule.args[1]\n",
    "        subst = Substitution()\n",
    "        for premise in premises.args:\n",
    "            theta = unify(premise, query, subst)\n",
    "            if theta is not None:\n",
    "                break\n",
    "        else:\n",
    "            continue\n",
    "        new_query = conclusion.subs(theta)\n",
    "        if self.bc_fool(new_query):\n",
    "            return True\n",
    "    return False\n",
    "\n",
    "KBase.bc_fool = bc_fool"
   ]
  },
  {
   "cell_type": "code",
   "execution_count": 56,
   "metadata": {},
   "outputs": [
    {
     "data": {
      "text/plain": [
       "True"
      ]
     },
     "execution_count": 56,
     "metadata": {},
     "output_type": "execute_result"
    }
   ],
   "source": [
    "kb.bc_fool(Criminal(West)) # True"
   ]
  },
  {
   "cell_type": "markdown",
   "metadata": {},
   "source": [
    "## Resolution"
   ]
  },
  {
   "cell_type": "code",
   "execution_count": 60,
   "metadata": {},
   "outputs": [],
   "source": [
    "def resolve(self, query:Expr)->bool:\n",
    "    '''\n",
    "    Resolve a query.\n",
    "    '''\n",
    "    return self.fc_fool(query) or self.bc_fool(query)\n",
    "\n",
    "def DNF(expr:Expr):\n",
    "    '''\n",
    "    Convert an expression to disjunctive normal form.\n",
    "    '''\n",
    "    if isinstance(expr, Implies):\n",
    "        return DNF(Or((Not(expr.args[0]), expr.args[1])))\n",
    "    elif isinstance(expr, And):\n",
    "        return Or(*[Not(DNF(arg)) for arg in expr.args])\n",
    "    elif isinstance(expr, AppliedUndef):\n",
    "        return expr\n",
    "    return expr\n",
    "\n",
    "def to_DNF(self):\n",
    "    '''\n",
    "    Convert all rules and facts into DNF.\n",
    "    '''\n",
    "    self._rules = {DNF(rule) for rule in self._rules}\n",
    "    self._facts = {DNF(fact) for fact in self._facts}\n",
    "\n",
    "KBase.resolve = resolve\n",
    "KBase.to_DNF = to_DNF"
   ]
  },
  {
   "cell_type": "code",
   "execution_count": 61,
   "metadata": {},
   "outputs": [
    {
     "name": "stdout",
     "output_type": "stream",
     "text": [
      "Or((Not(And(American(x), Weapon(y), Sells(x, y, z), Hostile(z))), Criminal(x)))\n",
      "Rules:\n",
      "Or((Not(And(American(x), Weapon(y), Sells(x, y, z), Hostile(z))), Criminal(x)))\n",
      "Or((Not(And(Enemy(c, America))), Hostile(c)))\n",
      "Or((Not(And(Missle(b))), Weapon(b)))\n",
      "Or((Not(And(Missle(a), Owns(Nono, a))), Sells(West, a, Nono)))\n",
      "Facts:\n",
      "Criminal(West)\n",
      "Enemy(Nono, America)\n",
      "Owns(Nono, Missle(M1))\n",
      "American(West)\n",
      "Weapon(b)\n",
      "Hostile(c)\n",
      "Missle(M1)\n",
      "Sells(West, M1, Nono)\n"
     ]
    }
   ],
   "source": [
    "print(DNF(Implies(And(American(x), Weapon(y), Sells(x, y, z), Hostile(z)), Criminal(x))))\n",
    "kb.to_DNF()\n",
    "print(kb)"
   ]
  }
 ],
 "metadata": {
  "kernelspec": {
   "display_name": "aima",
   "language": "python",
   "name": "python3"
  },
  "language_info": {
   "codemirror_mode": {
    "name": "ipython",
    "version": 3
   },
   "file_extension": ".py",
   "mimetype": "text/x-python",
   "name": "python",
   "nbconvert_exporter": "python",
   "pygments_lexer": "ipython3",
   "version": "3.12.3"
  }
 },
 "nbformat": 4,
 "nbformat_minor": 2
}
