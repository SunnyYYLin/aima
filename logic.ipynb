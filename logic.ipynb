{
 "cells": [
  {
   "cell_type": "markdown",
   "metadata": {},
   "source": [
    "### Unification Algorithm\n",
    "First realize some basic discriminance."
   ]
  },
  {
   "cell_type": "code",
   "execution_count": 11,
   "metadata": {},
   "outputs": [],
   "source": [
    "from sympy import symbols, Function\n",
    "from sympy.core.function import AppliedUndef\n",
    "from sympy.core.symbol import Symbol\n",
    "\n",
    "def is_term(x):\n",
    "    return x.is_symbol or isinstance(x, AppliedUndef)\n",
    "\n",
    "def is_var(x):\n",
    "    return x.is_symbol and str(x).islower()\n",
    "\n",
    "def is_const(x):\n",
    "    return x.is_symbol and not str(x).islower()\n",
    "\n",
    "def is_comp(x):\n",
    "    return isinstance(x, AppliedUndef)\n",
    "\n",
    "def is_op(x):\n",
    "    return isinstance(x, Function)"
   ]
  },
  {
   "cell_type": "markdown",
   "metadata": {},
   "source": [
    "Try to substitute variables to unify two expressions, making them the same."
   ]
  },
  {
   "cell_type": "code",
   "execution_count": 12,
   "metadata": {},
   "outputs": [
    {
     "name": "stdout",
     "output_type": "stream",
     "text": [
      "UNIFY(Knows(John, x), Knows(John, Jane)) = {x: Jane}\n",
      "UNIFY(Knows(John, x), Knows(y, Bill)) = {y: John, x: Bill}\n",
      "UNIFY(Knows(John, x), Knows(y, Mother(y))) = {y: John, x: Mother(y)}\n",
      "UNIFY(Knows(John, x), Knows(y, Elizabeth)) = {y: John, x: Elizabeth}\n"
     ]
    }
   ],
   "source": [
    "def unify(x, y, theta=None):\n",
    "    if theta is None:\n",
    "        theta = {}\n",
    "    if theta is None:\n",
    "        return None\n",
    "    elif x == y:\n",
    "        return theta\n",
    "    elif is_var(x):\n",
    "        return unify_var(x, y, theta)\n",
    "    elif is_var(y):\n",
    "        return unify_var(y, x, theta)\n",
    "    elif is_comp(x) and is_comp(y):\n",
    "        if x.func == y.func and len(x.args) == len(y.args):\n",
    "            for arg_x, arg_y in zip(x.args, y.args):\n",
    "                theta = unify(arg_x, arg_y, theta)\n",
    "                if theta is None:\n",
    "                    return None\n",
    "            return theta\n",
    "    return None\n",
    "\n",
    "def unify_var(var, x, theta):\n",
    "    if var in theta:\n",
    "        return unify(theta[var], x, theta)\n",
    "    elif x in theta:\n",
    "        return unify(var, theta[x], theta)\n",
    "    elif occur_check(var, x, theta):\n",
    "        return None\n",
    "    else:\n",
    "        theta[var] = x\n",
    "        return theta\n",
    "\n",
    "def occur_check(var, x, theta):\n",
    "    if var == x:\n",
    "        return True\n",
    "    elif is_variable(x) and x in theta:\n",
    "        return occur_check(var, theta[x], theta)\n",
    "    elif isinstance(x, AppliedUndef):\n",
    "        return any(occur_check(var, arg, theta) for arg in x.args)\n",
    "    return False\n",
    "\n",
    "x, y = symbols('x y')\n",
    "John, Jane, Bill, Elizabeth = symbols('John Jane Bill Elizabeth')\n",
    "Mother = Function('Mother')\n",
    "Knows = Function('Knows')\n",
    "\n",
    "expr1 = Knows(John, x)\n",
    "expr2 = Knows(John, Jane)\n",
    "expr3 = Knows(y, Bill)\n",
    "expr4 = Knows(y, Mother(y))\n",
    "expr5 = Knows(y, Elizabeth)\n",
    "\n",
    "print(\"UNIFY(Knows(John, x), Knows(John, Jane)) =\", unify(expr1, expr2))\n",
    "print(\"UNIFY(Knows(John, x), Knows(y, Bill)) =\", unify(expr1, expr3))\n",
    "print(\"UNIFY(Knows(John, x), Knows(y, Mother(y))) =\", unify(expr1, expr4))\n",
    "print(\"UNIFY(Knows(John, x), Knows(y, Elizabeth)) =\", unify(expr1, expr5))"
   ]
  }
 ],
 "metadata": {
  "kernelspec": {
   "display_name": "aima",
   "language": "python",
   "name": "python3"
  },
  "language_info": {
   "codemirror_mode": {
    "name": "ipython",
    "version": 3
   },
   "file_extension": ".py",
   "mimetype": "text/x-python",
   "name": "python",
   "nbconvert_exporter": "python",
   "pygments_lexer": "ipython3",
   "version": "3.12.3"
  }
 },
 "nbformat": 4,
 "nbformat_minor": 2
}
